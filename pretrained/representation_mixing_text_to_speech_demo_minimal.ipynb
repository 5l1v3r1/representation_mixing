{
  "nbformat": 4,
  "nbformat_minor": 0,
  "metadata": {
    "colab": {
      "name": "Minimal demo of Representation Mixing",
      "version": "0.3.2",
      "provenance": [],
      "private_outputs": true,
      "collapsed_sections": [],
      "toc_visible": true
    },
    "kernelspec": {
      "name": "python2",
      "display_name": "Python 2"
    },
    "accelerator": "GPU"
  },
  "cells": [
    {
      "metadata": {
        "id": "ub5RuaFnxo-O",
        "colab_type": "text"
      },
      "cell_type": "markdown",
      "source": [
        "## Minimal Demo\n",
        "\n",
        "This is a minimal demo of Representation Mixing, for more details see the [arxiv paper](https://arxiv.org/abs/1811.07240)\n",
        "\n",
        "Approximate runtime ~4 minutes"
      ]
    },
    {
      "metadata": {
        "id": "m7R_1MpFc3Za",
        "colab_type": "text"
      },
      "cell_type": "markdown",
      "source": [
        "## Setup\n",
        "\n",
        "### Install dependencies"
      ]
    },
    {
      "metadata": {
        "id": "NlLC7Q7Us8go",
        "colab_type": "code",
        "colab": {}
      },
      "cell_type": "code",
      "source": [
        "import os\n",
        "from os.path import exists, join, expanduser\n",
        "\n",
        "os.chdir(os.path.expanduser(\"~\"))\n",
        "\n",
        "representation_mixing_dir = \"representation_mixing\"\n",
        "if not os.path.exists(representation_mixing_dir):\n",
        "  ! git clone https://github.com/kastnerkyle/$representation_mixing_dir\n"
      ],
      "execution_count": 0,
      "outputs": []
    },
    {
      "metadata": {
        "id": "KBFfji_Avluz",
        "colab_type": "code",
        "colab": {}
      },
      "cell_type": "code",
      "source": [
        "# Install dependencies\n",
        "! pip install -q --upgrade \"tensorflow<=1.6.0\"\n",
        "! pip install -q --upgrade \"unidecode\""
      ],
      "execution_count": 0,
      "outputs": []
    },
    {
      "metadata": {
        "id": "iZsAP7srBBTe",
        "colab_type": "code",
        "colab": {}
      },
      "cell_type": "code",
      "source": [
        "os.chdir(representation_mixing_dir)\n",
        "os.chdir(\"pretrained\")"
      ],
      "execution_count": 0,
      "outputs": []
    },
    {
      "metadata": {
        "id": "km1SAASEcIL6",
        "colab_type": "text"
      },
      "cell_type": "markdown",
      "source": [
        "\n",
        "## Input texts to be synthesized\n",
        "\n",
        "Choose your favorite sentences :)"
      ]
    },
    {
      "metadata": {
        "id": "qnHnJyc1v6U7",
        "colab_type": "code",
        "colab": {}
      },
      "cell_type": "code",
      "source": [
        "if os.path.exists(\"sample_lines.txt\"):\n",
        "      os.remove(\"sample_lines.txt\")"
      ],
      "execution_count": 0,
      "outputs": []
    },
    {
      "metadata": {
        "id": "tU1lz6PcbXut",
        "colab_type": "code",
        "colab": {}
      },
      "cell_type": "code",
      "source": [
        "%%bash\n",
        "cat << EOS > sample_lines.txt\n",
        "The cat ate bread.\n",
        "That cat is not dead.\n",
        "EOS\n",
        "\n",
        "cat sample_lines.txt"
      ],
      "execution_count": 0,
      "outputs": []
    },
    {
      "metadata": {
        "id": "15p8phXx6nxe",
        "colab_type": "code",
        "colab": {}
      },
      "cell_type": "code",
      "source": [
        "! bash sample.sh"
      ],
      "execution_count": 0,
      "outputs": []
    },
    {
      "metadata": {
        "id": "rY_MfE0m8Ese",
        "colab_type": "code",
        "colab": {}
      },
      "cell_type": "code",
      "source": [
        "import IPython\n",
        "from IPython.display import Audio\n",
        "import numpy as np"
      ],
      "execution_count": 0,
      "outputs": []
    },
    {
      "metadata": {
        "id": "hNG8oI4OiJkJ",
        "colab_type": "text"
      },
      "cell_type": "markdown",
      "source": [
        "## Summary: audio samples"
      ]
    },
    {
      "metadata": {
        "id": "OIyfhn0v9Ntg",
        "colab_type": "code",
        "colab": {}
      },
      "cell_type": "code",
      "source": [
        "with open(\"sample_lines.txt\", \"r\") as f:\n",
        "    lines = f.readlines()\n",
        "lines = [l.strip() for l in lines]\n",
        "\n",
        "def sort(files):\n",
        "    return sorted(files, key=lambda k: int(k.split(\"_\")[1]))\n",
        "    \n",
        "mel_files = sort([f for f in os.listdir(\".\") if \"_mels.npz\" in f])\n",
        "audio_files = sort([f for f in os.listdir(\".\") if \"_post.wav\" in f])          \n",
        "maps = zip(lines, mel_files[:len(lines)], audio_files[:len(lines)])\n",
        "\n",
        "for idx, (text, mel, audio) in enumerate(maps):\n",
        "  print(idx, text)\n",
        "  IPython.display.display(Audio(audio, rate=22050))"
      ],
      "execution_count": 0,
      "outputs": []
    }
  ]
}
